{
  "nbformat": 4,
  "nbformat_minor": 0,
  "metadata": {
    "colab": {
      "provenance": [],
      "authorship_tag": "ABX9TyOh0GQc6UvCJKpLv32zIXET",
      "include_colab_link": true
    },
    "kernelspec": {
      "name": "python3",
      "display_name": "Python 3"
    },
    "language_info": {
      "name": "python"
    }
  },
  "cells": [
    {
      "cell_type": "markdown",
      "metadata": {
        "id": "view-in-github",
        "colab_type": "text"
      },
      "source": [
        "<a href=\"https://colab.research.google.com/github/gaurav-kr92/Omini_channel/blob/main/Omnichannel.ipynb\" target=\"_parent\"><img src=\"https://colab.research.google.com/assets/colab-badge.svg\" alt=\"Open In Colab\"/></a>"
      ]
    },
    {
      "cell_type": "markdown",
      "source": [
        "# Import Dependencies"
      ],
      "metadata": {
        "id": "LLXCFj6uyl_6"
      }
    },
    {
      "cell_type": "code",
      "source": [
        "!pip install mesa"
      ],
      "metadata": {
        "colab": {
          "base_uri": "https://localhost:8080/"
        },
        "id": "8-ncT3ZRzLJI",
        "outputId": "1f92442e-2a20-463a-8291-fc9df8c3db5a"
      },
      "execution_count": null,
      "outputs": [
        {
          "output_type": "stream",
          "name": "stdout",
          "text": [
            "Looking in indexes: https://pypi.org/simple, https://us-python.pkg.dev/colab-wheels/public/simple/\n",
            "Requirement already satisfied: mesa in /usr/local/lib/python3.10/dist-packages (1.2.1)\n",
            "Requirement already satisfied: click in /usr/local/lib/python3.10/dist-packages (from mesa) (8.1.3)\n",
            "Requirement already satisfied: cookiecutter in /usr/local/lib/python3.10/dist-packages (from mesa) (2.1.1)\n",
            "Requirement already satisfied: networkx in /usr/local/lib/python3.10/dist-packages (from mesa) (3.1)\n",
            "Requirement already satisfied: numpy in /usr/local/lib/python3.10/dist-packages (from mesa) (1.22.4)\n",
            "Requirement already satisfied: pandas in /usr/local/lib/python3.10/dist-packages (from mesa) (1.5.3)\n",
            "Requirement already satisfied: tornado in /usr/local/lib/python3.10/dist-packages (from mesa) (6.3.1)\n",
            "Requirement already satisfied: tqdm in /usr/local/lib/python3.10/dist-packages (from mesa) (4.65.0)\n",
            "Requirement already satisfied: binaryornot>=0.4.4 in /usr/local/lib/python3.10/dist-packages (from cookiecutter->mesa) (0.4.4)\n",
            "Requirement already satisfied: Jinja2<4.0.0,>=2.7 in /usr/local/lib/python3.10/dist-packages (from cookiecutter->mesa) (3.1.2)\n",
            "Requirement already satisfied: pyyaml>=5.3.1 in /usr/local/lib/python3.10/dist-packages (from cookiecutter->mesa) (6.0)\n",
            "Requirement already satisfied: jinja2-time>=0.2.0 in /usr/local/lib/python3.10/dist-packages (from cookiecutter->mesa) (0.2.0)\n",
            "Requirement already satisfied: python-slugify>=4.0.0 in /usr/local/lib/python3.10/dist-packages (from cookiecutter->mesa) (8.0.1)\n",
            "Requirement already satisfied: requests>=2.23.0 in /usr/local/lib/python3.10/dist-packages (from cookiecutter->mesa) (2.27.1)\n",
            "Requirement already satisfied: python-dateutil>=2.8.1 in /usr/local/lib/python3.10/dist-packages (from pandas->mesa) (2.8.2)\n",
            "Requirement already satisfied: pytz>=2020.1 in /usr/local/lib/python3.10/dist-packages (from pandas->mesa) (2022.7.1)\n",
            "Requirement already satisfied: chardet>=3.0.2 in /usr/local/lib/python3.10/dist-packages (from binaryornot>=0.4.4->cookiecutter->mesa) (4.0.0)\n",
            "Requirement already satisfied: MarkupSafe>=2.0 in /usr/local/lib/python3.10/dist-packages (from Jinja2<4.0.0,>=2.7->cookiecutter->mesa) (2.1.2)\n",
            "Requirement already satisfied: arrow in /usr/local/lib/python3.10/dist-packages (from jinja2-time>=0.2.0->cookiecutter->mesa) (1.2.3)\n",
            "Requirement already satisfied: six>=1.5 in /usr/local/lib/python3.10/dist-packages (from python-dateutil>=2.8.1->pandas->mesa) (1.16.0)\n",
            "Requirement already satisfied: text-unidecode>=1.3 in /usr/local/lib/python3.10/dist-packages (from python-slugify>=4.0.0->cookiecutter->mesa) (1.3)\n",
            "Requirement already satisfied: urllib3<1.27,>=1.21.1 in /usr/local/lib/python3.10/dist-packages (from requests>=2.23.0->cookiecutter->mesa) (1.26.15)\n",
            "Requirement already satisfied: certifi>=2017.4.17 in /usr/local/lib/python3.10/dist-packages (from requests>=2.23.0->cookiecutter->mesa) (2022.12.7)\n",
            "Requirement already satisfied: charset-normalizer~=2.0.0 in /usr/local/lib/python3.10/dist-packages (from requests>=2.23.0->cookiecutter->mesa) (2.0.12)\n",
            "Requirement already satisfied: idna<4,>=2.5 in /usr/local/lib/python3.10/dist-packages (from requests>=2.23.0->cookiecutter->mesa) (3.4)\n"
          ]
        }
      ]
    },
    {
      "cell_type": "code",
      "source": [
        "import mesa\n",
        "import random\n",
        "import numpy as np\n",
        "import math\n",
        "import matplotlib.pyplot as plt\n",
        "%matplotlib inline "
      ],
      "metadata": {
        "id": "gdXRlOvDzPjA"
      },
      "execution_count": null,
      "outputs": []
    },
    {
      "cell_type": "markdown",
      "source": [
        "# Resources Class"
      ],
      "metadata": {
        "id": "v2M0LTUZzk36"
      }
    },
    {
      "cell_type": "code",
      "source": [
        "def generate_value_matrix(n,m):\n",
        "  return np.random.randint(10, size=(n,m))\n"
      ],
      "metadata": {
        "id": "2sQEuTzLzeij"
      },
      "execution_count": null,
      "outputs": []
    },
    {
      "cell_type": "code",
      "source": [
        "def generate_cost_matrix(n,m):\n",
        "  return np.random.randint(3,size=(n,m))\n"
      ],
      "metadata": {
        "id": "CYvuUhET3DQI"
      },
      "execution_count": null,
      "outputs": []
    },
    {
      "cell_type": "code",
      "source": [
        "def ispossible_switch(stage_no,current_channel,to_channel,value,cost,integration_factor,switching_matrix):\n",
        "  '''\n",
        "  Function used in scenario-2;\n",
        "  return bool, whether it is possible to change channel in next stage; \n",
        "  '''\n",
        "  # base condition( if current_channel is same to_channel we return false;)\n",
        "  if current_channel == to_channel :\n",
        "   return False\n",
        "\n",
        "  # calculate what will be dicission if no switch occur and same channel used for next stage; \n",
        "  without_switch_decission = value[stage_no][current_channel] - cost[stage_no][current_channel]\n",
        "\n",
        "  # let assume there is switching, then decission (value and cost ) will be fxn of integration factor and switching matrix; \n",
        "  with_switch_decission = value[stage_no][to_channel] - cost[stage_no][to_channel]\n",
        "  # Now taking accoount for integration factor and switching cost; \n",
        "  with_switch_decission = with_switch_decission + switching_matrix[current_channel][to_channel] - integration_factor[current_channel][to_channel]\n",
        "\n",
        "  # if we found that after switching decision decreases then switch it , return true ;\n",
        "  if with_switch_decission < without_switch_decission:\n",
        "    return True\n",
        "  else:\n",
        "    return False  \n",
        "\n",
        "\n",
        "  "
      ],
      "metadata": {
        "id": "zVh5SOipSgAg"
      },
      "execution_count": 213,
      "outputs": []
    },
    {
      "cell_type": "markdown",
      "source": [
        "#Scenario No -1"
      ],
      "metadata": {
        "id": "vgEVtIs9R1y-"
      }
    },
    {
      "cell_type": "code",
      "source": [
        "def scenario_1(value,cost):\n",
        "  '''\n",
        "  scenario 1 - \n",
        "  Only one channel to used across all n stages\n",
        "  '''\n",
        "\n",
        "  \n",
        "  # summing value for each each stages \n",
        "  sum_of_value_across_each_channel = np.sum(value,axis=0)\n",
        "  # summing cost for each of stages\n",
        "  sum_of_cost_across_each_channel = np.sum(cost,axis=0)\n",
        "  \n",
        "  # defined decission array , which contain decission for each channel \n",
        "  decision_for_each_channel = sum_of_value_across_each_channel - sum_of_cost_across_each_channel\n",
        "  print(\"Decision for each Channel : \\n\" ,decision_for_each_channel)\n",
        "\n",
        "  #Finding which channel yeild minimum decision \n",
        "  minElement = np.amin(decision_for_each_channel)\n",
        "  print(\"Minimun decision : \", minElement)\n",
        "  # Get the indices of minimum element in numpy array\n",
        "  result = np.where(decision_for_each_channel == np.amin(decision_for_each_channel))\n",
        "\n",
        "  print('List of Channel through which we got minimum decision :', result[0]+1)"
      ],
      "metadata": {
        "id": "98w16H274kI-"
      },
      "execution_count": 239,
      "outputs": []
    },
    {
      "cell_type": "markdown",
      "source": [
        "# Scenario 2"
      ],
      "metadata": {
        "id": "rLz-f8Bs7QqV"
      }
    },
    {
      "cell_type": "code",
      "source": [
        "def scenario_2(no_of_channels,no_of_stages,value,cost):\n",
        "  '''\n",
        "  Scenario_2 : There is switch from within Channel across buying stages; \n",
        "  When switch occur both integration factor and switching cost are used to calcualte the value and cost; \n",
        "  '''\n",
        "  # Create a integration facator matrix : it will be 2-D array of size(no_of_channel * no_of_channel) with diagonal element as 1; \n",
        "  integration_factor = np.random.rand(no_of_channels,no_of_channels)\n",
        "  np.fill_diagonal(integration_factor,1)\n",
        "  print(\"Integration factor : \\n\", integration_factor)\n",
        " \n",
        "\n",
        "  # Create a switching matrix : it will be 2-D array of size(no_of_channel * no_of_channel) with diagonal element as 0; \n",
        "  switching_matrix = np.random.rand(no_of_channels,no_of_channels)\n",
        "  np.fill_diagonal(switching_matrix,0)\n",
        "  print(\"Switching_matrix : \\n\", switching_matrix)\n",
        "\n",
        "  minimum_decision = 1e9\n",
        "  path_taken= []\n",
        "\n",
        "  # Taking 100 trials , and assinging a starting channel randomly;\n",
        "  for i in range(100):\n",
        "    # For each trials, randomly chosing starting channel( i.e for stages 1 which channel to select)\n",
        "    start_channel = random.randint(0,no_of_channels-1)\n",
        "    current_channel = start_channel \n",
        "\n",
        "    # Now we have to switch channel for next stage of journey, But how many switches we performed in overall customer journey process. \n",
        "    # Let it generate random no of switches (ranges for 1 to no_of_stages)\n",
        "    no_of_switches = random.randint(1,no_of_stages-1) \n",
        "\n",
        "    count =0; \n",
        "   \n",
        "    path = [current_channel]\n",
        "    decision = value[0][start_channel] - cost[0][start_channel]\n",
        "\n",
        "   # Iterating through all stage of customer journey ; \n",
        "    for stage in range(no_of_stages):\n",
        "      if stage==0: continue\n",
        "      # Generate a random channel no , to which it switches form current channel if it is possible; \n",
        "      to_channel = random.randint(0,no_of_channels-1)\n",
        "      if count < no_of_switches and ispossible_switch(stage,current_channel,to_channel,value,cost,integration_factor,switching_matrix):\n",
        "        decision += value[stage][to_channel] - cost[stage][to_channel] + switching_matrix[current_channel][to_channel] - integration_factor[current_channel][to_channel]\n",
        "        count +=1\n",
        "        path.append(to_channel)\n",
        "        current_channel = to_channel \n",
        "\n",
        "      else:\n",
        "        path.append(current_channel)\n",
        "        decision += value[stage][current_channel] - cost[stage][current_channel]\n",
        "\n",
        "    if minimum_decision > decision:\n",
        "      minimum_decision = decision\n",
        "      path_taken = path\n",
        "\n",
        "  print(\"Minimum decision in 100 iteration : \", minimum_decision)\n",
        "  print(\"Channels used in this journey is : \\n\" ,path_taken)   \n",
        "\n",
        "\n"
      ],
      "metadata": {
        "id": "xFy9P2QI7PlB"
      },
      "execution_count": 241,
      "outputs": []
    },
    {
      "cell_type": "markdown",
      "source": [
        "# Agent class"
      ],
      "metadata": {
        "id": "bsxlkpcwTFdp"
      }
    },
    {
      "cell_type": "code",
      "source": [
        "class Agent(mesa.Agent):\n",
        "  def __init__(self,unique_id,model,pos):\n",
        "    super().__init__(unique_id,model)\n",
        "    self.pos = pos\n",
        "    \n"
      ],
      "metadata": {
        "id": "FYpZaEQPTJI0"
      },
      "execution_count": null,
      "outputs": []
    },
    {
      "cell_type": "markdown",
      "source": [
        "# Model class"
      ],
      "metadata": {
        "id": "DaopBD_BSN3b"
      }
    },
    {
      "cell_type": "code",
      "source": [
        "class omnichannel(mesa.Model):\n",
        "\n",
        "  def __init__(self, no_of_agents = random.randint(0, 9),\n",
        "               no_of_stages = random.randrange(2, 8), \n",
        "               no_of_channels = random.randrange(2,20)):\n",
        "\n",
        "    # Intialise no of stages and no of channel to given value else random valve; \n",
        "    self.no_of_stages = no_of_stages\n",
        "    self.no_of_channels = no_of_channels\n",
        "    self.no_of_agents = no_of_agents\n",
        "\n",
        "    # Intiate Mesa grid class ( A Row denoting  = a stage and Coloum denoting =  a channel)\n",
        "    # width will store no_of_channel;\n",
        "    # height will store no of stages;\n",
        "    self.width = self.no_of_channels +1 \n",
        "    self.height = self.no_of_stages +1\n",
        "    self.grid = mesa.space.MultiGrid(self.width,self.height, torus = False)\n",
        "    #Intiate scheduler\n",
        "    self.schedule =mesa.time.RandomActivationByType(self)\n",
        "\n",
        "\n",
        "     #Printing the intial given constraints;\n",
        "    print(\"Number of buying stages : \",no_of_stages)\n",
        "    print(\"Number of Channel available: \",no_of_channels)\n",
        "\n",
        "    # generate a random value matrix \n",
        "    value = generate_value_matrix(no_of_stages,no_of_channels)\n",
        "    print(\"Value matrix: \\n\", value)\n",
        "\n",
        "    # generate random cost matrix\n",
        "    cost = generate_cost_matrix(no_of_stages,no_of_channels)\n",
        "    print(\"Cost Matrix: \\n\",cost)\n",
        "\n",
        "    agent_id =0 \n",
        "    \n",
        "   \n",
        "    for i in range(self.no_of_agents):\n",
        "      # Here we are assuming each agent start their purchase journey from stage 1. \n",
        "      # So in grid , intial position will be (0,y)\n",
        "      x = random.randint(0,self.no_of_channels)\n",
        "      agent = Agent(agent_id,self,(x,0))\n",
        "      self.grid.place_agent(agent,(x,0))\n",
        "      self.schedule.add(agent)\n",
        "      agent_id +=1\n",
        "\n",
        "\n",
        "    # Scenerio One; ( No change of channel And only one Agent )\n",
        "    # Outputing minimun decision and channel used; \n",
        "    print(\"Scenerio 1 result : \\n\")\n",
        "    scenario_1(value,cost)\n",
        "\n",
        "    # scenario Two; (Change in channel in upcoming stages)\n",
        "    print(\"\\n Scenerio 2 result : \\n\")\n",
        "    scenario_2(no_of_channels,no_of_stages,value,cost)\n",
        "\n",
        "\n"
      ],
      "metadata": {
        "id": "7YMPnID__Hjs"
      },
      "execution_count": 237,
      "outputs": []
    },
    {
      "cell_type": "code",
      "source": [
        "model = omnichannel()\n",
        "model"
      ],
      "metadata": {
        "colab": {
          "base_uri": "https://localhost:8080/"
        },
        "id": "ZiSaLaCwAM_i",
        "outputId": "9bd9cd03-6522-455e-e222-1d69f8be8552"
      },
      "execution_count": 242,
      "outputs": [
        {
          "output_type": "stream",
          "name": "stdout",
          "text": [
            "Number of buying stages :  7\n",
            "Number of Channel available:  19\n",
            "Value matrix: \n",
            " [[2 7 0 6 2 7 2 5 8 1 9 0 8 7 0 8 2 3 9]\n",
            " [1 4 5 7 3 8 4 4 1 6 4 0 7 7 7 7 3 5 3]\n",
            " [9 6 8 7 6 5 1 5 4 3 3 7 2 5 0 2 3 6 7]\n",
            " [5 5 4 2 5 7 6 0 7 1 6 4 9 4 3 1 1 2 6]\n",
            " [1 5 1 8 1 8 6 7 5 0 8 7 6 8 6 4 5 4 2]\n",
            " [6 6 2 3 5 8 3 1 4 1 5 6 4 3 3 5 0 8 8]\n",
            " [5 1 9 1 4 0 6 8 1 9 2 8 3 8 6 7 7 7 1]]\n",
            "Cost Matrix: \n",
            " [[2 0 1 1 2 1 2 1 0 0 1 2 0 2 1 2 2 2 1]\n",
            " [1 1 0 2 0 0 2 2 0 0 0 2 0 1 0 1 1 2 1]\n",
            " [0 1 1 1 2 1 2 2 1 0 0 0 0 1 0 1 1 0 2]\n",
            " [2 1 2 1 0 0 2 1 2 2 1 1 2 0 0 1 2 0 2]\n",
            " [2 1 1 0 0 0 2 2 1 1 1 2 0 1 0 1 0 0 0]\n",
            " [0 2 2 1 1 2 0 1 2 2 2 0 2 2 2 1 0 2 1]\n",
            " [2 1 1 0 1 2 0 1 0 2 0 2 1 2 1 2 2 1 1]]\n",
            "Scenerio 1 result : \n",
            "\n",
            "Decision for each Channel : \n",
            " [20 27 21 28 20 37 18 20 24 14 32 23 34 33 21 25 13 28 28]\n",
            "Minimun decision :  13\n",
            "List of Channel through which we got minimum decision : [17]\n",
            "\n",
            " Scenerio 2 result : \n",
            "\n",
            "Integration factor : \n",
            " [[1.00000000e+00 9.77214171e-01 3.95697812e-01 9.45181999e-01\n",
            "  2.75619211e-01 3.12372809e-01 6.82767709e-02 9.08677267e-01\n",
            "  6.81828036e-01 5.52405454e-01 2.81429288e-02 8.80641767e-02\n",
            "  4.71853708e-01 1.09465301e-01 5.89908420e-01 7.97700205e-01\n",
            "  2.70417925e-01 7.05835766e-01 7.17781454e-01]\n",
            " [1.40341918e-01 1.00000000e+00 8.45677431e-01 5.63371287e-01\n",
            "  4.71055648e-01 3.36452976e-02 8.41217359e-01 9.05518160e-01\n",
            "  6.84946456e-01 1.24633356e-01 1.93542040e-01 9.82619490e-01\n",
            "  9.24533618e-01 7.65098603e-01 6.08048387e-01 4.58141295e-01\n",
            "  4.12684162e-01 3.94545800e-01 8.46688436e-02]\n",
            " [8.80316057e-01 8.05448172e-01 1.00000000e+00 3.36837190e-01\n",
            "  4.88972959e-01 2.52702009e-01 6.33368038e-01 2.26204381e-01\n",
            "  3.22572081e-01 1.23807367e-03 7.80906494e-01 1.44723037e-01\n",
            "  1.10522378e-02 2.87234585e-02 6.32208998e-01 3.61558836e-01\n",
            "  6.63541637e-01 1.02282902e-01 2.46360475e-01]\n",
            " [3.83544548e-01 5.83092581e-01 4.05360905e-01 1.00000000e+00\n",
            "  9.83671121e-01 6.13773287e-01 8.94310778e-02 1.59157304e-01\n",
            "  1.97828901e-01 5.08845926e-01 5.46367781e-02 7.81944288e-01\n",
            "  9.83463387e-01 5.94113475e-01 5.88686297e-01 4.98939299e-01\n",
            "  3.16304959e-01 3.98618608e-01 6.21308242e-01]\n",
            " [2.55950533e-01 6.29213311e-01 5.42595664e-01 6.36200007e-01\n",
            "  1.00000000e+00 1.57491267e-01 6.99360171e-01 4.62569633e-01\n",
            "  5.95174279e-01 9.37029059e-01 4.97007002e-01 7.84291567e-01\n",
            "  1.74842868e-02 9.33601069e-01 1.19354917e-01 5.57940887e-01\n",
            "  4.72201344e-01 1.48136206e-01 8.07761760e-01]\n",
            " [5.02706172e-01 9.10790800e-01 1.36440524e-01 5.26625276e-02\n",
            "  2.28563628e-01 1.00000000e+00 6.15267307e-01 8.42750935e-02\n",
            "  4.08947567e-01 3.49989394e-02 3.48293051e-01 7.72445159e-01\n",
            "  4.26361333e-01 7.72765621e-01 3.74880393e-01 4.33188823e-02\n",
            "  4.61205982e-01 1.87828020e-02 5.50930088e-01]\n",
            " [3.06129494e-01 1.92844080e-01 8.13511389e-01 8.09429988e-01\n",
            "  8.01626407e-01 5.99316673e-01 1.00000000e+00 5.22513052e-01\n",
            "  8.70511941e-01 5.97121482e-01 5.71274482e-01 4.78588290e-01\n",
            "  4.26192600e-02 6.76084040e-01 3.19339362e-01 3.70423902e-01\n",
            "  4.96637157e-01 9.04553854e-01 7.31058828e-01]\n",
            " [5.79497018e-01 2.59487913e-01 2.88031539e-01 4.68228442e-01\n",
            "  3.88288259e-01 3.40744082e-01 8.06335919e-01 1.00000000e+00\n",
            "  6.79591308e-01 5.19892760e-01 4.63816807e-01 6.92522606e-01\n",
            "  2.22831136e-01 4.62252334e-01 5.57443070e-01 2.79236505e-01\n",
            "  1.35387701e-01 5.93463769e-01 1.21791685e-01]\n",
            " [8.83856263e-01 2.29568166e-01 4.67843297e-01 2.10282902e-01\n",
            "  5.70551197e-01 8.54075382e-01 5.69187236e-01 6.62189881e-01\n",
            "  1.00000000e+00 4.68291052e-01 1.02666817e-01 6.42693824e-01\n",
            "  5.52209412e-01 7.69833220e-01 7.14533368e-01 2.23920707e-01\n",
            "  3.69754109e-01 4.76177864e-01 1.28132409e-01]\n",
            " [3.27670829e-01 1.37709465e-02 8.55589175e-02 2.37677955e-01\n",
            "  1.60181947e-01 8.09519034e-01 2.83809748e-01 9.09086536e-01\n",
            "  5.86355927e-01 1.00000000e+00 5.01454257e-01 1.61239269e-01\n",
            "  3.09154698e-01 7.89219954e-01 1.96333614e-01 5.70172241e-01\n",
            "  2.79410293e-04 4.92836408e-01 5.53774753e-01]\n",
            " [1.53766679e-01 3.76062085e-01 5.91698722e-01 2.18429724e-01\n",
            "  5.59387198e-01 6.31459815e-01 4.17497470e-01 1.60319304e-01\n",
            "  8.15755860e-01 4.00377896e-01 1.00000000e+00 1.61264254e-01\n",
            "  2.11775692e-01 7.10693590e-01 9.20484208e-01 2.64764275e-01\n",
            "  5.00639756e-01 8.06158041e-01 6.58555955e-01]\n",
            " [8.94733373e-01 4.03671575e-01 6.72604173e-02 3.09801671e-01\n",
            "  6.48601105e-01 3.80785340e-01 2.19230656e-01 2.76451356e-01\n",
            "  8.60507922e-02 3.93048029e-01 2.02577607e-01 1.00000000e+00\n",
            "  8.43832345e-01 4.55495674e-01 4.70783765e-01 8.96394782e-01\n",
            "  8.76830763e-01 8.68542720e-01 8.33701342e-01]\n",
            " [8.66641181e-01 1.37692097e-01 3.28079984e-02 7.25898131e-01\n",
            "  6.58634986e-01 7.24673518e-01 5.27487998e-01 8.69179102e-01\n",
            "  9.50594912e-01 2.88916706e-01 8.55270868e-01 9.31796903e-01\n",
            "  1.00000000e+00 1.63789486e-01 5.53296212e-01 7.86437834e-01\n",
            "  2.45038911e-02 5.92588326e-01 2.30476114e-01]\n",
            " [8.92901473e-01 9.22867705e-01 4.82290708e-01 8.45833969e-01\n",
            "  6.29174477e-01 6.77104388e-01 8.23406045e-01 7.66529767e-02\n",
            "  5.45626614e-01 8.26626436e-01 6.18178946e-01 3.07652450e-01\n",
            "  2.92055888e-01 1.00000000e+00 3.27247770e-01 1.56283370e-01\n",
            "  8.59818221e-01 8.22693256e-02 7.95450626e-01]\n",
            " [2.96819032e-01 4.02322277e-01 3.52978103e-01 6.18383652e-01\n",
            "  1.73670490e-01 4.10858779e-01 5.49158077e-01 5.97137000e-01\n",
            "  2.21342643e-01 1.98475952e-01 6.79509803e-01 7.56105509e-01\n",
            "  8.94807465e-01 5.72183721e-01 1.00000000e+00 1.27334786e-01\n",
            "  3.36757277e-01 2.62329131e-01 2.22770197e-01]\n",
            " [6.17435274e-01 4.56616667e-01 4.42624950e-01 7.48623766e-01\n",
            "  2.10996997e-01 7.21107397e-01 3.70603983e-01 7.83936831e-02\n",
            "  5.41496699e-01 3.84309756e-01 8.68838061e-01 5.09777925e-01\n",
            "  1.32139260e-01 4.46289726e-02 2.43804406e-01 1.00000000e+00\n",
            "  6.03264865e-01 6.75270308e-01 5.35829404e-01]\n",
            " [5.43521014e-01 3.80809274e-01 7.62136300e-01 3.36988276e-01\n",
            "  6.45313651e-01 2.88848926e-01 8.44475465e-01 8.33705186e-01\n",
            "  1.52697214e-01 8.83465462e-01 3.91563711e-01 5.21571611e-01\n",
            "  7.87817247e-01 2.65024206e-01 6.99561405e-01 1.14233717e-02\n",
            "  1.00000000e+00 6.02568990e-01 7.33346108e-01]\n",
            " [2.01042359e-01 7.72932705e-01 6.47855179e-01 2.08989183e-01\n",
            "  6.12248771e-01 7.97073071e-01 4.57839074e-01 4.00234999e-01\n",
            "  2.14522346e-01 2.76910138e-01 5.71841065e-01 1.85809951e-01\n",
            "  1.22700389e-01 2.98034287e-01 6.32120005e-01 7.68856229e-01\n",
            "  5.21580861e-01 1.00000000e+00 7.74093248e-01]\n",
            " [2.27265635e-01 8.37184360e-01 5.29678339e-01 5.26586853e-01\n",
            "  3.14293998e-01 2.22965369e-01 7.02787798e-01 8.26557449e-01\n",
            "  3.56246976e-01 7.80672597e-01 4.09866367e-01 8.71465922e-01\n",
            "  3.41453589e-01 5.05146206e-01 7.63556204e-01 4.54672291e-01\n",
            "  3.14424503e-01 1.72687892e-01 1.00000000e+00]]\n",
            "Switching_matrix : \n",
            " [[0.         0.59148202 0.35072078 0.80205496 0.72446014 0.93073771\n",
            "  0.41786102 0.38968091 0.30812538 0.11653848 0.98987606 0.73597312\n",
            "  0.54419642 0.18341886 0.23376526 0.69233556 0.42150739 0.65536313\n",
            "  0.17234005]\n",
            " [0.53077153 0.         0.38942408 0.05812974 0.61285361 0.23979953\n",
            "  0.8424534  0.87085185 0.37151548 0.9428527  0.94163602 0.93968843\n",
            "  0.42339066 0.08320716 0.12290362 0.47402882 0.42813773 0.477786\n",
            "  0.90006351]\n",
            " [0.59301955 0.19942548 0.         0.55171258 0.9038093  0.13228603\n",
            "  0.53586315 0.81389309 0.58930333 0.25363517 0.13719396 0.95565767\n",
            "  0.39547818 0.36791028 0.92754919 0.46091088 0.95283133 0.39105755\n",
            "  0.87831299]\n",
            " [0.76001227 0.40335576 0.22904862 0.         0.0609269  0.02841915\n",
            "  0.85339144 0.21708234 0.74094303 0.49741655 0.41366947 0.18415676\n",
            "  0.52789408 0.37801649 0.60704853 0.7785141  0.16033484 0.9489946\n",
            "  0.62222885]\n",
            " [0.36330914 0.04202173 0.77925371 0.61173162 0.         0.76558922\n",
            "  0.41314221 0.13256153 0.58113009 0.59651437 0.13276644 0.59063432\n",
            "  0.63262429 0.34310906 0.50111145 0.6465986  0.94359478 0.96821936\n",
            "  0.57999792]\n",
            " [0.31273673 0.09877528 0.49421789 0.48827411 0.85042893 0.\n",
            "  0.89363477 0.13307139 0.66368124 0.0190126  0.87575616 0.35156089\n",
            "  0.37757899 0.78251362 0.01122805 0.86573781 0.40810201 0.77191771\n",
            "  0.43025534]\n",
            " [0.8920308  0.4137991  0.3286289  0.76426677 0.93396698 0.59538656\n",
            "  0.         0.62469743 0.5717054  0.85507808 0.25882528 0.0874959\n",
            "  0.82296792 0.17692683 0.78363544 0.28771095 0.39036695 0.06570373\n",
            "  0.98857139]\n",
            " [0.01191273 0.3406553  0.47081347 0.2934058  0.85636149 0.34634181\n",
            "  0.7091611  0.         0.65583351 0.54359232 0.87186672 0.6067094\n",
            "  0.04574193 0.90699544 0.09375048 0.71013324 0.01161493 0.6705201\n",
            "  0.31609541]\n",
            " [0.98860388 0.51104216 0.09029841 0.62233158 0.99463789 0.14479091\n",
            "  0.63592331 0.89413243 0.         0.39002132 0.82803475 0.31381984\n",
            "  0.00770556 0.73344353 0.30450444 0.99362419 0.16442986 0.99737893\n",
            "  0.60624234]\n",
            " [0.2045474  0.30633863 0.75316489 0.29265032 0.92129146 0.71184895\n",
            "  0.89691031 0.85209514 0.39515917 0.         0.671845   0.99624556\n",
            "  0.66140543 0.0799705  0.61132287 0.27883855 0.36003867 0.02837497\n",
            "  0.90529928]\n",
            " [0.86614329 0.98494242 0.23697112 0.4941482  0.0614441  0.5336771\n",
            "  0.07373898 0.9656642  0.41439439 0.48410507 0.         0.95355319\n",
            "  0.65065214 0.87717639 0.44243199 0.52638589 0.46784179 0.42347404\n",
            "  0.32653951]\n",
            " [0.99169479 0.95732566 0.414253   0.97639591 0.45369609 0.94439037\n",
            "  0.93840791 0.84283807 0.40278906 0.86767705 0.99397077 0.\n",
            "  0.1254142  0.51677201 0.91909523 0.99699946 0.97766793 0.29148083\n",
            "  0.56786716]\n",
            " [0.81769732 0.67684427 0.4941882  0.43535557 0.6551703  0.681109\n",
            "  0.15206686 0.22619778 0.82737093 0.53116258 0.60130277 0.25538142\n",
            "  0.         0.59490014 0.18938085 0.17479521 0.29719522 0.6486474\n",
            "  0.91617532]\n",
            " [0.47631095 0.84284552 0.69031311 0.74670368 0.36836623 0.52895809\n",
            "  0.6384541  0.56553089 0.33343815 0.73248002 0.99783544 0.50284401\n",
            "  0.79121905 0.         0.06348956 0.69770512 0.67649811 0.13265907\n",
            "  0.13335904]\n",
            " [0.08018795 0.12454048 0.53514072 0.53065879 0.27944928 0.54591543\n",
            "  0.32111179 0.21980656 0.22724367 0.33878791 0.86752139 0.78575849\n",
            "  0.89234066 0.59815913 0.         0.02517896 0.66478242 0.93879713\n",
            "  0.38358702]\n",
            " [0.43892672 0.25474931 0.97583255 0.1777874  0.72563513 0.49556904\n",
            "  0.4464661  0.00689517 0.75026505 0.34016444 0.62458885 0.72517975\n",
            "  0.31783479 0.6117768  0.86112726 0.         0.16372392 0.06205684\n",
            "  0.76348969]\n",
            " [0.28399218 0.3977677  0.60939606 0.14851272 0.21982972 0.91222456\n",
            "  0.61318073 0.37470493 0.83809598 0.04254401 0.66104218 0.88019463\n",
            "  0.38877248 0.4401848  0.15429008 0.58934567 0.         0.45026991\n",
            "  0.03450632]\n",
            " [0.92851702 0.02726028 0.75209055 0.45436842 0.76442732 0.83497713\n",
            "  0.69426997 0.69425038 0.20078728 0.43707074 0.36078178 0.05965489\n",
            "  0.54470498 0.30462992 0.43781349 0.55457343 0.79724735 0.\n",
            "  0.21639041]\n",
            " [0.23582783 0.97804529 0.21020975 0.85709389 0.64093842 0.22379293\n",
            "  0.9081427  0.79700657 0.96770223 0.40681878 0.08644367 0.3703711\n",
            "  0.20179371 0.98506982 0.98929006 0.06949314 0.10096421 0.67010029\n",
            "  0.        ]]\n",
            "Minimum decision in 100 iteration :  4.283178015533279\n",
            "Channels used in this journey is : \n",
            " [4, 4, 14, 9, 9, 9, 4]\n"
          ]
        },
        {
          "output_type": "execute_result",
          "data": {
            "text/plain": [
              "<__main__.omnichannel at 0x7fbbd52de080>"
            ]
          },
          "metadata": {},
          "execution_count": 242
        }
      ]
    },
    {
      "cell_type": "code",
      "source": [],
      "metadata": {
        "id": "xErqll4Sc3Ho"
      },
      "execution_count": null,
      "outputs": []
    }
  ]
}